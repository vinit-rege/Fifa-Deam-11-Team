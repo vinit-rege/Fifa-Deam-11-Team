{
 "cells": [
  {
   "cell_type": "code",
   "execution_count": 1,
   "metadata": {},
   "outputs": [],
   "source": [
    "#Importing requrired libraries\n",
    "\n",
    "import pandas as pd\n",
    "import re\n",
    "import seaborn as sns\n",
    "import matplotlib.pyplot as plt\n",
    "import numpy as np\n",
    "import warnings; \n",
    "warnings.simplefilter('ignore')\n"
   ]
  },
  {
   "cell_type": "code",
   "execution_count": 2,
   "metadata": {},
   "outputs": [],
   "source": [
    "#Read csv file\n",
    "data = pd.read_csv(r\"F:\\vinit.rege\\new.csv\", header=0,encoding = 'unicode_escape')"
   ]
  },
  {
   "cell_type": "code",
   "execution_count": 3,
   "metadata": {},
   "outputs": [
    {
     "data": {
      "text/html": [
       "<div>\n",
       "<style scoped>\n",
       "    .dataframe tbody tr th:only-of-type {\n",
       "        vertical-align: middle;\n",
       "    }\n",
       "\n",
       "    .dataframe tbody tr th {\n",
       "        vertical-align: top;\n",
       "    }\n",
       "\n",
       "    .dataframe thead th {\n",
       "        text-align: right;\n",
       "    }\n",
       "</style>\n",
       "<table border=\"1\" class=\"dataframe\">\n",
       "  <thead>\n",
       "    <tr style=\"text-align: right;\">\n",
       "      <th></th>\n",
       "      <th>Unnamed: 0</th>\n",
       "      <th>ID</th>\n",
       "      <th>Name</th>\n",
       "      <th>Age</th>\n",
       "      <th>Photo</th>\n",
       "      <th>Nationality</th>\n",
       "      <th>Flag</th>\n",
       "      <th>Overall</th>\n",
       "      <th>Potential</th>\n",
       "      <th>Club</th>\n",
       "      <th>...</th>\n",
       "      <th>Composure</th>\n",
       "      <th>Marking</th>\n",
       "      <th>StandingTackle</th>\n",
       "      <th>SlidingTackle</th>\n",
       "      <th>GKDiving</th>\n",
       "      <th>GKHandling</th>\n",
       "      <th>GKKicking</th>\n",
       "      <th>GKPositioning</th>\n",
       "      <th>GKReflexes</th>\n",
       "      <th>Release Clause</th>\n",
       "    </tr>\n",
       "  </thead>\n",
       "  <tbody>\n",
       "    <tr>\n",
       "      <th>0</th>\n",
       "      <td>0</td>\n",
       "      <td>158023</td>\n",
       "      <td>L. Messi</td>\n",
       "      <td>31</td>\n",
       "      <td>https://cdn.sofifa.org/players/4/19/158023.png</td>\n",
       "      <td>Argentina</td>\n",
       "      <td>https://cdn.sofifa.org/flags/52.png</td>\n",
       "      <td>94</td>\n",
       "      <td>94</td>\n",
       "      <td>FC Barcelona</td>\n",
       "      <td>...</td>\n",
       "      <td>96.0</td>\n",
       "      <td>33.0</td>\n",
       "      <td>28.0</td>\n",
       "      <td>26.0</td>\n",
       "      <td>6.0</td>\n",
       "      <td>11.0</td>\n",
       "      <td>15.0</td>\n",
       "      <td>14.0</td>\n",
       "      <td>8.0</td>\n",
       "      <td>Û226.5M</td>\n",
       "    </tr>\n",
       "    <tr>\n",
       "      <th>1</th>\n",
       "      <td>1</td>\n",
       "      <td>20801</td>\n",
       "      <td>Cristiano Ronaldo</td>\n",
       "      <td>33</td>\n",
       "      <td>https://cdn.sofifa.org/players/4/19/20801.png</td>\n",
       "      <td>Portugal</td>\n",
       "      <td>https://cdn.sofifa.org/flags/38.png</td>\n",
       "      <td>94</td>\n",
       "      <td>94</td>\n",
       "      <td>Juventus</td>\n",
       "      <td>...</td>\n",
       "      <td>95.0</td>\n",
       "      <td>28.0</td>\n",
       "      <td>31.0</td>\n",
       "      <td>23.0</td>\n",
       "      <td>7.0</td>\n",
       "      <td>11.0</td>\n",
       "      <td>15.0</td>\n",
       "      <td>14.0</td>\n",
       "      <td>11.0</td>\n",
       "      <td>Û127.1M</td>\n",
       "    </tr>\n",
       "    <tr>\n",
       "      <th>2</th>\n",
       "      <td>2</td>\n",
       "      <td>190871</td>\n",
       "      <td>Neymar Jr</td>\n",
       "      <td>26</td>\n",
       "      <td>https://cdn.sofifa.org/players/4/19/190871.png</td>\n",
       "      <td>Brazil</td>\n",
       "      <td>https://cdn.sofifa.org/flags/54.png</td>\n",
       "      <td>92</td>\n",
       "      <td>93</td>\n",
       "      <td>Paris Saint-Germain</td>\n",
       "      <td>...</td>\n",
       "      <td>94.0</td>\n",
       "      <td>27.0</td>\n",
       "      <td>24.0</td>\n",
       "      <td>33.0</td>\n",
       "      <td>9.0</td>\n",
       "      <td>9.0</td>\n",
       "      <td>15.0</td>\n",
       "      <td>15.0</td>\n",
       "      <td>11.0</td>\n",
       "      <td>Û228.1M</td>\n",
       "    </tr>\n",
       "    <tr>\n",
       "      <th>3</th>\n",
       "      <td>3</td>\n",
       "      <td>193080</td>\n",
       "      <td>De Gea</td>\n",
       "      <td>27</td>\n",
       "      <td>https://cdn.sofifa.org/players/4/19/193080.png</td>\n",
       "      <td>Spain</td>\n",
       "      <td>https://cdn.sofifa.org/flags/45.png</td>\n",
       "      <td>91</td>\n",
       "      <td>93</td>\n",
       "      <td>Manchester United</td>\n",
       "      <td>...</td>\n",
       "      <td>68.0</td>\n",
       "      <td>15.0</td>\n",
       "      <td>21.0</td>\n",
       "      <td>13.0</td>\n",
       "      <td>90.0</td>\n",
       "      <td>85.0</td>\n",
       "      <td>87.0</td>\n",
       "      <td>88.0</td>\n",
       "      <td>94.0</td>\n",
       "      <td>Û138.6M</td>\n",
       "    </tr>\n",
       "    <tr>\n",
       "      <th>4</th>\n",
       "      <td>4</td>\n",
       "      <td>192985</td>\n",
       "      <td>K. De Bruyne</td>\n",
       "      <td>27</td>\n",
       "      <td>https://cdn.sofifa.org/players/4/19/192985.png</td>\n",
       "      <td>Belgium</td>\n",
       "      <td>https://cdn.sofifa.org/flags/7.png</td>\n",
       "      <td>91</td>\n",
       "      <td>92</td>\n",
       "      <td>Manchester City</td>\n",
       "      <td>...</td>\n",
       "      <td>88.0</td>\n",
       "      <td>68.0</td>\n",
       "      <td>58.0</td>\n",
       "      <td>51.0</td>\n",
       "      <td>15.0</td>\n",
       "      <td>13.0</td>\n",
       "      <td>5.0</td>\n",
       "      <td>10.0</td>\n",
       "      <td>13.0</td>\n",
       "      <td>Û196.4M</td>\n",
       "    </tr>\n",
       "  </tbody>\n",
       "</table>\n",
       "<p>5 rows × 89 columns</p>\n",
       "</div>"
      ],
      "text/plain": [
       "   Unnamed: 0      ID               Name  Age  \\\n",
       "0           0  158023           L. Messi   31   \n",
       "1           1   20801  Cristiano Ronaldo   33   \n",
       "2           2  190871          Neymar Jr   26   \n",
       "3           3  193080             De Gea   27   \n",
       "4           4  192985       K. De Bruyne   27   \n",
       "\n",
       "                                            Photo Nationality  \\\n",
       "0  https://cdn.sofifa.org/players/4/19/158023.png   Argentina   \n",
       "1   https://cdn.sofifa.org/players/4/19/20801.png    Portugal   \n",
       "2  https://cdn.sofifa.org/players/4/19/190871.png      Brazil   \n",
       "3  https://cdn.sofifa.org/players/4/19/193080.png       Spain   \n",
       "4  https://cdn.sofifa.org/players/4/19/192985.png     Belgium   \n",
       "\n",
       "                                  Flag  Overall  Potential  \\\n",
       "0  https://cdn.sofifa.org/flags/52.png       94         94   \n",
       "1  https://cdn.sofifa.org/flags/38.png       94         94   \n",
       "2  https://cdn.sofifa.org/flags/54.png       92         93   \n",
       "3  https://cdn.sofifa.org/flags/45.png       91         93   \n",
       "4   https://cdn.sofifa.org/flags/7.png       91         92   \n",
       "\n",
       "                  Club      ...       Composure Marking StandingTackle  \\\n",
       "0         FC Barcelona      ...            96.0    33.0           28.0   \n",
       "1             Juventus      ...            95.0    28.0           31.0   \n",
       "2  Paris Saint-Germain      ...            94.0    27.0           24.0   \n",
       "3    Manchester United      ...            68.0    15.0           21.0   \n",
       "4      Manchester City      ...            88.0    68.0           58.0   \n",
       "\n",
       "   SlidingTackle GKDiving  GKHandling  GKKicking  GKPositioning GKReflexes  \\\n",
       "0           26.0      6.0        11.0       15.0           14.0        8.0   \n",
       "1           23.0      7.0        11.0       15.0           14.0       11.0   \n",
       "2           33.0      9.0         9.0       15.0           15.0       11.0   \n",
       "3           13.0     90.0        85.0       87.0           88.0       94.0   \n",
       "4           51.0     15.0        13.0        5.0           10.0       13.0   \n",
       "\n",
       "  Release Clause  \n",
       "0        Û226.5M  \n",
       "1        Û127.1M  \n",
       "2        Û228.1M  \n",
       "3        Û138.6M  \n",
       "4        Û196.4M  \n",
       "\n",
       "[5 rows x 89 columns]"
      ]
     },
     "execution_count": 3,
     "metadata": {},
     "output_type": "execute_result"
    }
   ],
   "source": [
    "data.head()"
   ]
  },
  {
   "cell_type": "code",
   "execution_count": 4,
   "metadata": {},
   "outputs": [
    {
     "data": {
      "text/html": [
       "<div>\n",
       "<style scoped>\n",
       "    .dataframe tbody tr th:only-of-type {\n",
       "        vertical-align: middle;\n",
       "    }\n",
       "\n",
       "    .dataframe tbody tr th {\n",
       "        vertical-align: top;\n",
       "    }\n",
       "\n",
       "    .dataframe thead th {\n",
       "        text-align: right;\n",
       "    }\n",
       "</style>\n",
       "<table border=\"1\" class=\"dataframe\">\n",
       "  <thead>\n",
       "    <tr style=\"text-align: right;\">\n",
       "      <th></th>\n",
       "      <th>Unnamed: 0</th>\n",
       "      <th>ID</th>\n",
       "      <th>Age</th>\n",
       "      <th>Overall</th>\n",
       "      <th>Potential</th>\n",
       "      <th>Special</th>\n",
       "      <th>International Reputation</th>\n",
       "      <th>WeakFoot</th>\n",
       "      <th>Skill Moves</th>\n",
       "      <th>Jersey Number</th>\n",
       "      <th>...</th>\n",
       "      <th>Penalties</th>\n",
       "      <th>Composure</th>\n",
       "      <th>Marking</th>\n",
       "      <th>StandingTackle</th>\n",
       "      <th>SlidingTackle</th>\n",
       "      <th>GKDiving</th>\n",
       "      <th>GKHandling</th>\n",
       "      <th>GKKicking</th>\n",
       "      <th>GKPositioning</th>\n",
       "      <th>GKReflexes</th>\n",
       "    </tr>\n",
       "  </thead>\n",
       "  <tbody>\n",
       "    <tr>\n",
       "      <th>count</th>\n",
       "      <td>18207.000000</td>\n",
       "      <td>18207.000000</td>\n",
       "      <td>18207.000000</td>\n",
       "      <td>18207.000000</td>\n",
       "      <td>18207.000000</td>\n",
       "      <td>18207.000000</td>\n",
       "      <td>18159.000000</td>\n",
       "      <td>18159.000000</td>\n",
       "      <td>18159.000000</td>\n",
       "      <td>18147.000000</td>\n",
       "      <td>...</td>\n",
       "      <td>18159.000000</td>\n",
       "      <td>18159.000000</td>\n",
       "      <td>18159.000000</td>\n",
       "      <td>18159.000000</td>\n",
       "      <td>18159.000000</td>\n",
       "      <td>18159.000000</td>\n",
       "      <td>18159.000000</td>\n",
       "      <td>18159.000000</td>\n",
       "      <td>18159.000000</td>\n",
       "      <td>18159.000000</td>\n",
       "    </tr>\n",
       "    <tr>\n",
       "      <th>mean</th>\n",
       "      <td>9103.000000</td>\n",
       "      <td>214298.338606</td>\n",
       "      <td>25.122206</td>\n",
       "      <td>66.238699</td>\n",
       "      <td>71.307299</td>\n",
       "      <td>1597.809908</td>\n",
       "      <td>1.113222</td>\n",
       "      <td>2.947299</td>\n",
       "      <td>2.361308</td>\n",
       "      <td>19.546096</td>\n",
       "      <td>...</td>\n",
       "      <td>48.548598</td>\n",
       "      <td>58.648274</td>\n",
       "      <td>47.281623</td>\n",
       "      <td>47.697836</td>\n",
       "      <td>45.661435</td>\n",
       "      <td>16.616223</td>\n",
       "      <td>16.391596</td>\n",
       "      <td>16.232061</td>\n",
       "      <td>16.388898</td>\n",
       "      <td>16.710887</td>\n",
       "    </tr>\n",
       "    <tr>\n",
       "      <th>std</th>\n",
       "      <td>5256.052511</td>\n",
       "      <td>29965.244204</td>\n",
       "      <td>4.669943</td>\n",
       "      <td>6.908930</td>\n",
       "      <td>6.136496</td>\n",
       "      <td>272.586016</td>\n",
       "      <td>0.394031</td>\n",
       "      <td>0.660456</td>\n",
       "      <td>0.756164</td>\n",
       "      <td>15.947765</td>\n",
       "      <td>...</td>\n",
       "      <td>15.704053</td>\n",
       "      <td>11.436133</td>\n",
       "      <td>19.904397</td>\n",
       "      <td>21.664004</td>\n",
       "      <td>21.289135</td>\n",
       "      <td>17.695349</td>\n",
       "      <td>16.906900</td>\n",
       "      <td>16.502864</td>\n",
       "      <td>17.034669</td>\n",
       "      <td>17.955119</td>\n",
       "    </tr>\n",
       "    <tr>\n",
       "      <th>min</th>\n",
       "      <td>0.000000</td>\n",
       "      <td>16.000000</td>\n",
       "      <td>16.000000</td>\n",
       "      <td>46.000000</td>\n",
       "      <td>48.000000</td>\n",
       "      <td>731.000000</td>\n",
       "      <td>1.000000</td>\n",
       "      <td>1.000000</td>\n",
       "      <td>1.000000</td>\n",
       "      <td>1.000000</td>\n",
       "      <td>...</td>\n",
       "      <td>5.000000</td>\n",
       "      <td>3.000000</td>\n",
       "      <td>3.000000</td>\n",
       "      <td>2.000000</td>\n",
       "      <td>3.000000</td>\n",
       "      <td>1.000000</td>\n",
       "      <td>1.000000</td>\n",
       "      <td>1.000000</td>\n",
       "      <td>1.000000</td>\n",
       "      <td>1.000000</td>\n",
       "    </tr>\n",
       "    <tr>\n",
       "      <th>25%</th>\n",
       "      <td>4551.500000</td>\n",
       "      <td>200315.500000</td>\n",
       "      <td>21.000000</td>\n",
       "      <td>62.000000</td>\n",
       "      <td>67.000000</td>\n",
       "      <td>1457.000000</td>\n",
       "      <td>1.000000</td>\n",
       "      <td>3.000000</td>\n",
       "      <td>2.000000</td>\n",
       "      <td>8.000000</td>\n",
       "      <td>...</td>\n",
       "      <td>39.000000</td>\n",
       "      <td>51.000000</td>\n",
       "      <td>30.000000</td>\n",
       "      <td>27.000000</td>\n",
       "      <td>24.000000</td>\n",
       "      <td>8.000000</td>\n",
       "      <td>8.000000</td>\n",
       "      <td>8.000000</td>\n",
       "      <td>8.000000</td>\n",
       "      <td>8.000000</td>\n",
       "    </tr>\n",
       "    <tr>\n",
       "      <th>50%</th>\n",
       "      <td>9103.000000</td>\n",
       "      <td>221759.000000</td>\n",
       "      <td>25.000000</td>\n",
       "      <td>66.000000</td>\n",
       "      <td>71.000000</td>\n",
       "      <td>1635.000000</td>\n",
       "      <td>1.000000</td>\n",
       "      <td>3.000000</td>\n",
       "      <td>2.000000</td>\n",
       "      <td>17.000000</td>\n",
       "      <td>...</td>\n",
       "      <td>49.000000</td>\n",
       "      <td>60.000000</td>\n",
       "      <td>53.000000</td>\n",
       "      <td>55.000000</td>\n",
       "      <td>52.000000</td>\n",
       "      <td>11.000000</td>\n",
       "      <td>11.000000</td>\n",
       "      <td>11.000000</td>\n",
       "      <td>11.000000</td>\n",
       "      <td>11.000000</td>\n",
       "    </tr>\n",
       "    <tr>\n",
       "      <th>75%</th>\n",
       "      <td>13654.500000</td>\n",
       "      <td>236529.500000</td>\n",
       "      <td>28.000000</td>\n",
       "      <td>71.000000</td>\n",
       "      <td>75.000000</td>\n",
       "      <td>1787.000000</td>\n",
       "      <td>1.000000</td>\n",
       "      <td>3.000000</td>\n",
       "      <td>3.000000</td>\n",
       "      <td>26.000000</td>\n",
       "      <td>...</td>\n",
       "      <td>60.000000</td>\n",
       "      <td>67.000000</td>\n",
       "      <td>64.000000</td>\n",
       "      <td>66.000000</td>\n",
       "      <td>64.000000</td>\n",
       "      <td>14.000000</td>\n",
       "      <td>14.000000</td>\n",
       "      <td>14.000000</td>\n",
       "      <td>14.000000</td>\n",
       "      <td>14.000000</td>\n",
       "    </tr>\n",
       "    <tr>\n",
       "      <th>max</th>\n",
       "      <td>18206.000000</td>\n",
       "      <td>246620.000000</td>\n",
       "      <td>45.000000</td>\n",
       "      <td>94.000000</td>\n",
       "      <td>95.000000</td>\n",
       "      <td>2346.000000</td>\n",
       "      <td>5.000000</td>\n",
       "      <td>5.000000</td>\n",
       "      <td>5.000000</td>\n",
       "      <td>99.000000</td>\n",
       "      <td>...</td>\n",
       "      <td>92.000000</td>\n",
       "      <td>96.000000</td>\n",
       "      <td>94.000000</td>\n",
       "      <td>93.000000</td>\n",
       "      <td>91.000000</td>\n",
       "      <td>90.000000</td>\n",
       "      <td>92.000000</td>\n",
       "      <td>91.000000</td>\n",
       "      <td>90.000000</td>\n",
       "      <td>94.000000</td>\n",
       "    </tr>\n",
       "  </tbody>\n",
       "</table>\n",
       "<p>8 rows × 44 columns</p>\n",
       "</div>"
      ],
      "text/plain": [
       "         Unnamed: 0             ID           Age       Overall     Potential  \\\n",
       "count  18207.000000   18207.000000  18207.000000  18207.000000  18207.000000   \n",
       "mean    9103.000000  214298.338606     25.122206     66.238699     71.307299   \n",
       "std     5256.052511   29965.244204      4.669943      6.908930      6.136496   \n",
       "min        0.000000      16.000000     16.000000     46.000000     48.000000   \n",
       "25%     4551.500000  200315.500000     21.000000     62.000000     67.000000   \n",
       "50%     9103.000000  221759.000000     25.000000     66.000000     71.000000   \n",
       "75%    13654.500000  236529.500000     28.000000     71.000000     75.000000   \n",
       "max    18206.000000  246620.000000     45.000000     94.000000     95.000000   \n",
       "\n",
       "            Special  International Reputation      WeakFoot   Skill Moves  \\\n",
       "count  18207.000000              18159.000000  18159.000000  18159.000000   \n",
       "mean    1597.809908                  1.113222      2.947299      2.361308   \n",
       "std      272.586016                  0.394031      0.660456      0.756164   \n",
       "min      731.000000                  1.000000      1.000000      1.000000   \n",
       "25%     1457.000000                  1.000000      3.000000      2.000000   \n",
       "50%     1635.000000                  1.000000      3.000000      2.000000   \n",
       "75%     1787.000000                  1.000000      3.000000      3.000000   \n",
       "max     2346.000000                  5.000000      5.000000      5.000000   \n",
       "\n",
       "       Jersey Number      ...          Penalties     Composure       Marking  \\\n",
       "count   18147.000000      ...       18159.000000  18159.000000  18159.000000   \n",
       "mean       19.546096      ...          48.548598     58.648274     47.281623   \n",
       "std        15.947765      ...          15.704053     11.436133     19.904397   \n",
       "min         1.000000      ...           5.000000      3.000000      3.000000   \n",
       "25%         8.000000      ...          39.000000     51.000000     30.000000   \n",
       "50%        17.000000      ...          49.000000     60.000000     53.000000   \n",
       "75%        26.000000      ...          60.000000     67.000000     64.000000   \n",
       "max        99.000000      ...          92.000000     96.000000     94.000000   \n",
       "\n",
       "       StandingTackle  SlidingTackle      GKDiving    GKHandling  \\\n",
       "count    18159.000000   18159.000000  18159.000000  18159.000000   \n",
       "mean        47.697836      45.661435     16.616223     16.391596   \n",
       "std         21.664004      21.289135     17.695349     16.906900   \n",
       "min          2.000000       3.000000      1.000000      1.000000   \n",
       "25%         27.000000      24.000000      8.000000      8.000000   \n",
       "50%         55.000000      52.000000     11.000000     11.000000   \n",
       "75%         66.000000      64.000000     14.000000     14.000000   \n",
       "max         93.000000      91.000000     90.000000     92.000000   \n",
       "\n",
       "          GKKicking  GKPositioning    GKReflexes  \n",
       "count  18159.000000   18159.000000  18159.000000  \n",
       "mean      16.232061      16.388898     16.710887  \n",
       "std       16.502864      17.034669     17.955119  \n",
       "min        1.000000       1.000000      1.000000  \n",
       "25%        8.000000       8.000000      8.000000  \n",
       "50%       11.000000      11.000000     11.000000  \n",
       "75%       14.000000      14.000000     14.000000  \n",
       "max       91.000000      90.000000     94.000000  \n",
       "\n",
       "[8 rows x 44 columns]"
      ]
     },
     "execution_count": 4,
     "metadata": {},
     "output_type": "execute_result"
    }
   ],
   "source": [
    "data.describe()"
   ]
  },
  {
   "cell_type": "code",
   "execution_count": 5,
   "metadata": {},
   "outputs": [],
   "source": [
    "#Delition of unwanted columns\n",
    "\n",
    "\n",
    "data=data.drop(columns=[\"ID\",\"Photo\",\"Flag\",\"Club Logo\",\"Value\",\"Wage\",\"Special\",\n",
    "                        \"Skill Moves\",\"Body Type\",\"Real Face\",\"Jersey Number\",\n",
    "                        \"Joined\",\"Loaned From\",\"Contract Valid Until\",\"Height\",\"Weight\",\n",
    "                        \"Release Clause\"],axis=1)"
   ]
  },
  {
   "cell_type": "code",
   "execution_count": 6,
   "metadata": {},
   "outputs": [],
   "source": [
    "data1 = data"
   ]
  },
  {
   "cell_type": "code",
   "execution_count": 7,
   "metadata": {},
   "outputs": [
    {
     "data": {
      "text/plain": [
       "Club                         241\n",
       "Preferred Foot                48\n",
       "International Reputation      48\n",
       "WeakFoot                      48\n",
       "Work Rate                     48\n",
       "Position                      60\n",
       "LS                          2085\n",
       "ST                          2085\n",
       "RS                          2085\n",
       "LW                          2085\n",
       "LF                          2085\n",
       "CF                          2085\n",
       "RF                          2085\n",
       "RW                          2085\n",
       "LAM                         2085\n",
       "CAM                         2085\n",
       "RAM                         2085\n",
       "LM                          2085\n",
       "LCM                         2085\n",
       "CM                          2085\n",
       "RCM                         2085\n",
       "RM                          2085\n",
       "LWB                         2085\n",
       "LDM                         2085\n",
       "CDM                         2085\n",
       "RDM                         2085\n",
       "RWB                         2085\n",
       "LB                          2085\n",
       "LCB                         2085\n",
       "CB                          2085\n",
       "                            ... \n",
       "Volleys                       48\n",
       "Dribbling                     48\n",
       "Curve                         48\n",
       "FKAccuracy                    48\n",
       "LongPassing                   48\n",
       "BallControl                   48\n",
       "Acceleration                  48\n",
       "SprintSpeed                   48\n",
       "Agility                       48\n",
       "Reactions                     48\n",
       "Balance                       48\n",
       "ShotPower                     48\n",
       "Jumping                       48\n",
       "Stamina                       48\n",
       "Strength                      48\n",
       "LongShots                     48\n",
       "Aggression                    48\n",
       "Interceptions                 48\n",
       "Positioning                   48\n",
       "Vision                        48\n",
       "Penalties                     48\n",
       "Composure                     48\n",
       "Marking                       48\n",
       "StandingTackle                48\n",
       "SlidingTackle                 48\n",
       "GKDiving                      48\n",
       "GKHandling                    48\n",
       "GKKicking                     48\n",
       "GKPositioning                 48\n",
       "GKReflexes                    48\n",
       "Length: 66, dtype: int64"
      ]
     },
     "execution_count": 7,
     "metadata": {},
     "output_type": "execute_result"
    }
   ],
   "source": [
    "#Finding columns who has null values\n",
    "\n",
    "null_columns=data.columns[data.isnull().any()]\n",
    "data[null_columns].isnull().sum()"
   ]
  },
  {
   "cell_type": "code",
   "execution_count": 8,
   "metadata": {},
   "outputs": [],
   "source": [
    "#Removing records with null values\n",
    "data = data.dropna(subset=['Club',\"Age\", 'Preferred Foot', 'International Reputation', 'Work Rate',\n",
    "       'Position', 'LS', 'ST', 'RS', 'LW', 'LF', 'CF', 'RF', 'RW', 'LAM',\n",
    "       'CAM', 'RAM', 'LM', 'LCM', 'CM', 'RCM', 'RM', 'LWB', 'LDM', 'CDM',\n",
    "       'RDM', 'RWB', 'LB', 'LCB', 'CB', 'RCB', 'RB', 'Crossing', 'Finishing',\n",
    "       'HeadingAccuracy', 'ShortPassing', 'Volleys', 'Dribbling', 'Curve',\n",
    "       'FKAccuracy', 'LongPassing', 'BallControl', 'Acceleration',\n",
    "       'SprintSpeed', 'Agility', 'Reactions', 'Balance', 'ShotPower',\n",
    "       'Jumping', 'Stamina', 'Strength', 'LongShots', 'Aggression',\n",
    "       'Interceptions', 'Positioning', 'Vision', 'Penalties', 'Composure',\n",
    "       'Marking', 'StandingTackle', 'SlidingTackle', 'GKDiving', 'GKHandling',\n",
    "       'GKKicking', 'GKPositioning', 'GKReflexes'])"
   ]
  },
  {
   "cell_type": "code",
   "execution_count": 9,
   "metadata": {},
   "outputs": [],
   "source": [
    "# Cleaaning some columns who has complex data\n",
    "\n",
    "def Clean_numbers(numbers):\n",
    "    \n",
    "    if re.search('\\D[0-9]', numbers):\n",
    "        \n",
    "        pos = re.search('\\D[0-9]', numbers).start()\n",
    "        return numbers[:pos]\n",
    "    else:\n",
    "        \n",
    "        return numbers\n",
    "    \n",
    "    \n",
    "\n",
    "data['LS'] = data['LS'].apply(Clean_numbers) \n",
    "data['RAM'] = data['RAM'].apply(Clean_numbers) \n",
    "data['ST'] = data['ST'].apply(Clean_numbers) \n",
    "data['RS'] = data['RS'].apply(Clean_numbers) \n",
    "data['LW'] = data['LW'].apply(Clean_numbers) \n",
    "data['LF'] = data['LF'].apply(Clean_numbers) \n",
    "data['CF'] = data['CF'].apply(Clean_numbers) \n",
    "data['RF'] = data['RF'].apply(Clean_numbers) \n",
    "data['RW'] = data['RW'].apply(Clean_numbers) \n",
    "data['LAM'] = data['LAM'].apply(Clean_numbers) \n",
    "data['CAM'] = data['CAM'].apply(Clean_numbers) \n",
    "data['LM'] = data['LM'].apply(Clean_numbers) \n",
    "data['LCM'] = data['LCM'].apply(Clean_numbers) \n",
    "data['CM'] = data['CM'].apply(Clean_numbers) \n",
    "data['RCM'] = data['RCM'].apply(Clean_numbers) \n",
    "data['RM'] = data['RM'].apply(Clean_numbers) \n",
    "data['LWB'] = data['LWB'].apply(Clean_numbers) \n",
    "data['LDM'] = data['LDM'].apply(Clean_numbers) \n",
    "data['CDM'] = data['CDM'].apply(Clean_numbers) \n",
    "data['RDM'] = data['RDM'].apply(Clean_numbers) \n",
    "data['RWB'] = data['RWB'].apply(Clean_numbers) \n",
    "data['LB'] = data['LB'].apply(Clean_numbers) \n",
    "data['LCB'] = data['LCB'].apply(Clean_numbers) \n",
    "data['CB'] = data['CB'].apply(Clean_numbers) \n",
    "data['RCB'] = data['RCB'].apply(Clean_numbers) \n",
    "data['RB'] = data['RB'].apply(Clean_numbers)\n",
    "\n",
    "for col in ['LS', 'RAM', 'ST', 'RS','LW','LF','CF','RF', 'RW','LAM', 'CAM', 'LM', 'LCM', 'CM', 'RCM', 'RM', 'LWB', \n",
    "            'LDM', 'CDM', 'RDM', 'RWB', 'LB', 'LCB', 'CB','RCB', 'RB']:\n",
    "    data[col] = data[col].astype('float')\n"
   ]
  },
  {
   "cell_type": "code",
   "execution_count": 10,
   "metadata": {},
   "outputs": [
    {
     "data": {
      "text/plain": [
       "<matplotlib.axes._subplots.AxesSubplot at 0x52a2278>"
      ]
     },
     "execution_count": 10,
     "metadata": {},
     "output_type": "execute_result"
    },
    {
     "data": {
      "image/png": "[encoded data removed]",
      "text/plain": [
       "<Figure size 1080x2304 with 1 Axes>"
      ]
     },
     "metadata": {
      "needs_background": "light"
     },
     "output_type": "display_data"
    }
   ],
   "source": [
    "# Visualizing Nationality of players     \n",
    "\n",
    "plt.figure(figsize=(15,32))\n",
    " \n",
    "sns.countplot(y = data.Nationality,palette=\"Set2\",order=data.Nationality.value_counts().iloc[:50].index)\n"
   ]
  },
  {
   "cell_type": "markdown",
   "metadata": {},
   "source": [
    "So we conclude that most of the players are from England, Germany and Spain."
   ]
  },
  {
   "cell_type": "code",
   "execution_count": 11,
   "metadata": {},
   "outputs": [
    {
     "data": {
      "text/plain": [
       "<matplotlib.axes._subplots.AxesSubplot at 0xaac1fd0>"
      ]
     },
     "execution_count": 11,
     "metadata": {},
     "output_type": "execute_result"
    },
    {
     "data": {
      "image/png": "[encoded data removed]",
      "text/plain": [
       "<Figure size 1080x432 with 1 Axes>"
      ]
     },
     "metadata": {
      "needs_background": "light"
     },
     "output_type": "display_data"
    }
   ],
   "source": [
    "# Visualizing Age coluumn\n",
    "\n",
    "plt.figure(figsize=(15,6))\n",
    "sns.countplot(x=\"Age\",data=data)\n"
   ]
  },
  {
   "cell_type": "markdown",
   "metadata": {},
   "source": [
    "Majority of players are between the age of 21 and 26."
   ]
  },
  {
   "cell_type": "code",
   "execution_count": 12,
   "metadata": {},
   "outputs": [
    {
     "data": {
      "text/plain": [
       "<matplotlib.axes._subplots.AxesSubplot at 0xabb00f0>"
      ]
     },
     "execution_count": 12,
     "metadata": {},
     "output_type": "execute_result"
    },
    {
     "data": {
      "image/png": "[encoded data removed]",
      "text/plain": [
       "<Figure size 1080x432 with 1 Axes>"
      ]
     },
     "metadata": {
      "needs_background": "light"
     },
     "output_type": "display_data"
    }
   ],
   "source": [
    "## Visualizing Club of players\n",
    "\n",
    "plt.figure(figsize=(15,6))\n",
    " \n",
    "sns.countplot(y = data.Club,palette=\"Set2\",order=data.Club.value_counts().iloc[:30].index)\n"
   ]
  },
  {
   "cell_type": "markdown",
   "metadata": {},
   "source": [
    "There is almost equal number of players from all club"
   ]
  },
  {
   "cell_type": "code",
   "execution_count": 13,
   "metadata": {},
   "outputs": [
    {
     "data": {
      "text/plain": [
       "<matplotlib.axes._subplots.AxesSubplot at 0xac577f0>"
      ]
     },
     "execution_count": 13,
     "metadata": {},
     "output_type": "execute_result"
    },
    {
     "data": {
      "image/png": "[encoded data removed]",
      "text/plain": [
       "<Figure size 432x288 with 1 Axes>"
      ]
     },
     "metadata": {
      "needs_background": "light"
     },
     "output_type": "display_data"
    }
   ],
   "source": [
    "# Visualizing Preferred Foot coluumn\n",
    "\n",
    "data['Preferred Foot'].value_counts().plot(kind='bar')\n"
   ]
  },
  {
   "cell_type": "markdown",
   "metadata": {},
   "source": [
    "Majority of the players prefferred right foot for playing game"
   ]
  },
  {
   "cell_type": "code",
   "execution_count": 14,
   "metadata": {},
   "outputs": [
    {
     "data": {
      "text/plain": [
       "<matplotlib.axes._subplots.AxesSubplot at 0xacd8a90>"
      ]
     },
     "execution_count": 14,
     "metadata": {},
     "output_type": "execute_result"
    },
    {
     "data": {
      "image/png": "[encoded data removed]",
      "text/plain": [
       "<Figure size 432x288 with 1 Axes>"
      ]
     },
     "metadata": {
      "needs_background": "light"
     },
     "output_type": "display_data"
    }
   ],
   "source": [
    "# Visualizing Position coluumn\n",
    "\n",
    "data['Position'].value_counts().plot(kind='bar')\n"
   ]
  },
  {
   "cell_type": "markdown",
   "metadata": {},
   "source": [
    "Majority of the players are Strikers."
   ]
  },
  {
   "cell_type": "code",
   "execution_count": 15,
   "metadata": {},
   "outputs": [
    {
     "data": {
      "text/plain": [
       "<matplotlib.axes._subplots.AxesSubplot at 0xaba6e48>"
      ]
     },
     "execution_count": 15,
     "metadata": {},
     "output_type": "execute_result"
    },
    {
     "data": {
      "image/png": "[encoded data removed]",
      "text/plain": [
       "<Figure size 432x288 with 1 Axes>"
      ]
     },
     "metadata": {
      "needs_background": "light"
     },
     "output_type": "display_data"
    }
   ],
   "source": [
    "# Visualizing Weak Foot\n",
    "\n",
    "data['WeakFoot'].value_counts().plot(kind='bar')\n"
   ]
  },
  {
   "cell_type": "raw",
   "metadata": {},
   "source": [
    "Let us begin our analysis..."
   ]
  },
  {
   "cell_type": "markdown",
   "metadata": {},
   "source": [
    "Lets find  a goalkeeper first"
   ]
  },
  {
   "cell_type": "markdown",
   "metadata": {},
   "source": [
    "We will consider two qualities for finding goalkeeper\n",
    "\n",
    "Shot Stopper: A goalkeeper who is strong in stopping shots taken by opponents.\n",
    "Sweeper: A goalkeeper who is strong in playing with his feet and making passes"
   ]
  },
  {
   "cell_type": "code",
   "execution_count": 16,
   "metadata": {},
   "outputs": [],
   "source": [
    "#weights\n",
    "a = 0.5\n",
    "b = 1\n",
    "c= 2\n",
    "d = 3"
   ]
  },
  {
   "cell_type": "code",
   "execution_count": 17,
   "metadata": {},
   "outputs": [
    {
     "data": {
      "text/plain": [
       "Text(0, 0.5, 'Shot Stopping Score')"
      ]
     },
     "execution_count": 17,
     "metadata": {},
     "output_type": "execute_result"
    },
    {
     "data": {
      "image/png": "[encoded data removed]",
      "text/plain": [
       "<Figure size 1080x432 with 1 Axes>"
      ]
     },
     "metadata": {
      "needs_background": "light"
     },
     "output_type": "display_data"
    }
   ],
   "source": [
    "data['gk_Shot_Stopper'] = (b*data.Reactions + b*data.Composure + a*data.SprintSpeed + a*data.Strength \n",
    "    + c*data.Jumping + b*data.GKPositioning + c*data.GKDiving + d*data.GKReflexes + b*data.GKHandling)/(2*a + 4*b + 2*c + 1*d)\n",
    "\n",
    "\n",
    "plt.figure(figsize=(15,6))\n",
    "show = data.sort_values('gk_Shot_Stopper', ascending=False)[:5]\n",
    "x = np.array(list(show['Name']))\n",
    "y = np.array(list(show['gk_Shot_Stopper']))\n",
    "sns.barplot(x, y, palette= \"colorblind\")\n",
    "plt.ylabel(\"Shot Stopping Score\")\n"
   ]
  },
  {
   "cell_type": "raw",
   "metadata": {},
   "source": [
    "data['gk_Sweeper'] = (b*data.Reactions + b*data.Composure + b*data.SprintSpeed + a*data.ShortPassing \n",
    "    + a*data.LongPassing + b*data.Jumping + b*data.GKPositioning + b*data.GKDiving + d*data.GKReflexes \n",
    "    + b*data.GKHandling + d*data.GKKicking + c*data.Vision)/(2*a + 4*b + 3*c + 2*d)\n",
    "\n",
    "\n",
    "plt.figure(figsize=(15,6))\n",
    "show = data.sort_values('gk_Sweeper', ascending=False)[:5]\n",
    "x2 = np.array(list(show['Name']))\n",
    "y2 = np.array(list(show['gk_Sweeper']))\n",
    "sns.barplot(x2, y2, palette= \"colorblind\")\n",
    "plt.ylabel(\"Sweeping Score\")\n"
   ]
  },
  {
   "cell_type": "markdown",
   "metadata": {},
   "source": [
    "L. Surez is top in the both the chart so we caan conclude that he is a best choice for goalkeeper"
   ]
  },
  {
   "cell_type": "markdown",
   "metadata": {},
   "source": [
    "Now, lets find 3 defenders with following category \n",
    "\n",
    "Centre Backs: We need two center-backs - Lest Center Backs and plays Right Center Back.\n",
    "Wing Backs: We again need two wing backs. One on the Left and the other on the right."
   ]
  },
  {
   "cell_type": "code",
   "execution_count": 18,
   "metadata": {},
   "outputs": [
    {
     "data": {
      "text/plain": [
       "Text(0, 0.5, 'Left Center Back Score')"
      ]
     },
     "execution_count": 18,
     "metadata": {},
     "output_type": "execute_result"
    },
    {
     "data": {
      "image/png": "[encoded data removed]",
      "text/plain": [
       "<Figure size 1080x432 with 1 Axes>"
      ]
     },
     "metadata": {
      "needs_background": "light"
     },
     "output_type": "display_data"
    }
   ],
   "source": [
    "#Left Center Back\n",
    "\n",
    "data['df_centre_backs'] = ( d*data.Reactions + c*data.Interceptions + d*data.SlidingTackle + d*data.StandingTackle \n",
    "                            + b*data.Vision+ b*data.Composure + b*data.Crossing +a*data.ShortPassing + b*data.LongPassing\n",
    "                            + c*data.Acceleration + b*data.SprintSpeed + d*data.Stamina + d*data.LCB + d*data.Jumping \n",
    "                            + d*data.HeadingAccuracy + b*data.LongShots + d*data.Marking + c*data.Aggression)/(6*b + 3*c + 8*d)\n",
    "\n",
    "\n",
    "\n",
    "plt.figure(figsize=(15,6))\n",
    "show = data[(data['Position'] == 'LCB')].sort_values('df_centre_backs', ascending=False)[:5]\n",
    "x = np.array(list(show['Name']))\n",
    "y = np.array(list(show['df_centre_backs']))\n",
    "sns.barplot(x, y, palette=sns.color_palette(\"Blues_d\"))\n",
    "plt.ylabel(\"Left Center Back Score\")"
   ]
  },
  {
   "cell_type": "code",
   "execution_count": 19,
   "metadata": {},
   "outputs": [
    {
     "data": {
      "text/plain": [
       "Text(0, 0.5, 'Right Center Back Score')"
      ]
     },
     "execution_count": 19,
     "metadata": {},
     "output_type": "execute_result"
    },
    {
     "data": {
      "image/png": "[encoded data removed]",
      "text/plain": [
       "<Figure size 1080x432 with 1 Axes>"
      ]
     },
     "metadata": {
      "needs_background": "light"
     },
     "output_type": "display_data"
    }
   ],
   "source": [
    "#Right Center Back\n",
    "\n",
    "data['df_centre_backs'] = ( d*data.Reactions + c*data.Interceptions + d*data.SlidingTackle + d*data.StandingTackle \n",
    "                            + b*data.Vision+ b*data.Composure + b*data.Crossing +a*data.ShortPassing + b*data.LongPassing\n",
    "                            + c*data.Acceleration + b*data.SprintSpeed + d*data.Stamina + d*data.RCB + d*data.Jumping \n",
    "                            + d*data.HeadingAccuracy + b*data.LongShots + d*data.Marking + c*data.Aggression)/(6*b + 3*c + 8*d)\n",
    "\n",
    "\n",
    "\n",
    "plt.figure(figsize=(15,6)) \n",
    "show = data[(data['Position'] == 'RCB')].sort_values('df_centre_backs', ascending=False)[:5]\n",
    "x = np.array(list(show['Name']))\n",
    "y = np.array(list(show['df_centre_backs']))\n",
    "sns.barplot(x, y, palette=sns.color_palette(\"Reds_d\"))\n",
    "plt.ylabel(\"Right Center Back Score\")\n"
   ]
  },
  {
   "cell_type": "code",
   "execution_count": 20,
   "metadata": {},
   "outputs": [
    {
     "data": {
      "text/plain": [
       "Text(0, 0.5, 'Left Back Score')"
      ]
     },
     "execution_count": 20,
     "metadata": {},
     "output_type": "execute_result"
    },
    {
     "data": {
      "image/png": "[encoded data removed]",
      "text/plain": [
       "<Figure size 1080x432 with 1 Axes>"
      ]
     },
     "metadata": {
      "needs_background": "light"
     },
     "output_type": "display_data"
    }
   ],
   "source": [
    "#Left Wing Back\n",
    "data['df_Wing_Backs'] = (b*data.BallControl + a*data.Dribbling + a*data.Marking + d*data.SlidingTackle + d*data.StandingTackle \n",
    "                             + c*data.Vision + c*data.Crossing + b*data.ShortPassing + c*data.LongPassing + d*data.Acceleration \n",
    "                                +d*data.SprintSpeed +d*data.LWB +d*data.LB + c*data.Stamina + a*data.Finishing)/(3*a + 2*b + 4*c + 6*d)\n",
    "\n",
    "\n",
    "\n",
    "plt.figure(figsize=(15,6))\n",
    "show = data[(data['Position'] == 'LWB') | (data['Position'] == 'LB')].sort_values('df_Wing_Backs', ascending=False)[:5]\n",
    "x = np.array(list(show['Name']))\n",
    "y = np.array(list(show['df_Wing_Backs']))\n",
    "sns.barplot(x, y, palette=sns.color_palette(\"Blues_d\"))\n",
    "plt.ylabel(\"Left Back Score\")\n"
   ]
  },
  {
   "cell_type": "code",
   "execution_count": 21,
   "metadata": {},
   "outputs": [
    {
     "data": {
      "text/plain": [
       "Text(0, 0.5, 'Right Back Score')"
      ]
     },
     "execution_count": 21,
     "metadata": {},
     "output_type": "execute_result"
    },
    {
     "data": {
      "image/png": "[encoded data removed]",
      "text/plain": [
       "<Figure size 1080x432 with 1 Axes>"
      ]
     },
     "metadata": {
      "needs_background": "light"
     },
     "output_type": "display_data"
    }
   ],
   "source": [
    "#Right Wing Back\n",
    "data['df_Wing_Backs'] = (b*data.BallControl + a*data.Dribbling + a*data.Marking + d*data.SlidingTackle + d*data.StandingTackle \n",
    "                            + c*data.Vision + c*data.Crossing + b*data.ShortPassing + c*data.LongPassing + d*data.Acceleration \n",
    "                            +d*data.SprintSpeed +d*data.RWB +d*data.RB + c*data.Stamina + a*data.Finishing)/(3*a + 2*b + 4*c + 6*d)\n",
    "\n",
    "\n",
    "plt.figure(figsize=(15,6))\n",
    "show = data[(data['Position'] == 'RWB') | (data['Position'] == 'RB')].sort_values('df_Wing_Backs', ascending=False)[:5]\n",
    "x = np.array(list(show['Name']))\n",
    "y = np.array(list(show['df_Wing_Backs']))\n",
    "sns.barplot(x, y, palette=sns.color_palette(\"BrBG\"))\n",
    "plt.ylabel(\"Right Back Score\")"
   ]
  },
  {
   "cell_type": "markdown",
   "metadata": {},
   "source": [
    "As per above analysis and visualization J.Vertonghen, Sergio Ramos, Jordi Alba and Jolo Cancelo are best defenders"
   ]
  },
  {
   "cell_type": "markdown",
   "metadata": {},
   "source": [
    "Now, we will find 3 best Mid-filders with following criteria\n",
    "\n",
    "Playmaker: who will move the ball to the attacking third from defence or midfield.\n",
    "Beast: who have loads of energy and who can boss the midfield.\n",
    "Controller: who controls midfield by sitting back or going forward based on dynamic needs."
   ]
  },
  {
   "cell_type": "code",
   "execution_count": 22,
   "metadata": {},
   "outputs": [
    {
     "data": {
      "text/plain": [
       "Text(0, 0.5, 'PlayMaker Score')"
      ]
     },
     "execution_count": 22,
     "metadata": {},
     "output_type": "execute_result"
    },
    {
     "data": {
      "image/png": "[encoded data removed]",
      "text/plain": [
       "<Figure size 1080x432 with 1 Axes>"
      ]
     },
     "metadata": {
      "needs_background": "light"
     },
     "output_type": "display_data"
    }
   ],
   "source": [
    "#Midfielding Playmakers\n",
    "data['mf_playmaker'] = (d*data.BallControl + d*data.Dribbling + a*data.Marking + d*data.Reactions +\n",
    "    d*data.Vision  + c*data.Crossing + d*data.ShortPassing + d*data.CAM + d*data.LAM + d*data.RAM + \n",
    "    c*data.LongPassing + c*data.Curve + b*data.LongShots)/(1*a + 1*b + 2*c + 7*d) \n",
    "\n",
    "\n",
    "plt.figure(figsize=(15,6))\n",
    "show = data[(data['Position'] == 'CAM') | (data['Position'] == 'LAM') | (data['Position'] == 'RAM')].sort_values('mf_playmaker', ascending=False)[:5]\n",
    "x = np.array(list(show['Name']))\n",
    "y = np.array(list(show['mf_playmaker']))\n",
    "sns.barplot(x, y, palette=sns.diverging_palette(145, 280, s=85, l=25, n=5))\n",
    "plt.ylabel(\"PlayMaker Score\")\n"
   ]
  },
  {
   "cell_type": "code",
   "execution_count": 23,
   "metadata": {},
   "outputs": [
    {
     "data": {
      "text/plain": [
       "Text(0, 0.5, 'Beast Score')"
      ]
     },
     "execution_count": 23,
     "metadata": {},
     "output_type": "execute_result"
    },
    {
     "data": {
      "image/png": "[encoded data removed]",
      "text/plain": [
       "<Figure size 1080x432 with 1 Axes>"
      ]
     },
     "metadata": {
      "needs_background": "light"
     },
     "output_type": "display_data"
    }
   ],
   "source": [
    "#Midfielding Beast\n",
    "data['mf_beast'] = (d*data.Agility + c*data.Balance + b*data.Jumping + c*data.Strength + d*data.Stamina +\n",
    "    a*data.SprintSpeed + c*data.Acceleration + d*data.ShortPassing + c*data.Aggression + d*data.Reactions + b*data.Marking + \n",
    "    b*data.StandingTackle + b*data.SlidingTackle + b*data.Interceptions + d*data.RCM + d*data.RM )/(1*a + 5*b + 4*c + 6*d)\n",
    "\n",
    "\n",
    "plt.figure(figsize=(15,6)) \n",
    "show = data[(data['Position'] == 'RCM') | (data['Position'] == 'RM')].sort_values('mf_beast', ascending=False)[:5]\n",
    "x = np.array(list(show['Name']))\n",
    "y = np.array(list(show['mf_beast']))\n",
    "sns.barplot(x, y, palette=sns.diverging_palette(156, 265, s=80, l=15, n=5))\n",
    "plt.ylabel(\"Beast Score\")\n"
   ]
  },
  {
   "cell_type": "code",
   "execution_count": 24,
   "metadata": {},
   "outputs": [
    {
     "data": {
      "text/plain": [
       "Text(0, 0.5, 'Controller Score')"
      ]
     },
     "execution_count": 24,
     "metadata": {},
     "output_type": "execute_result"
    },
    {
     "data": {
      "image/png": "[encoded data removed]",
      "text/plain": [
       "<Figure size 1080x432 with 1 Axes>"
      ]
     },
     "metadata": {
      "needs_background": "light"
     },
     "output_type": "display_data"
    }
   ],
   "source": [
    "\n",
    "#Midfielding Controller\n",
    "data['mf_controller'] = (b*data.WeakFoot + d*data.BallControl + a*data.Dribbling + a*data.Marking + d*data.LCM + \n",
    "    a*data.Reactions + c*data.Vision + c*data.Composure + d*data.ShortPassing + d*data.LongPassing + d*data.LM)/(2*c + 5*d + 4*a)\n",
    "\n",
    "\n",
    "plt.figure(figsize=(15,6))\n",
    "show = data[(data['Position'] == 'LCM') | (data['Position'] == 'LM')].sort_values('mf_controller', ascending=False)[:5]\n",
    "x = np.array(list(show['Name']))\n",
    "y = np.array(list(show['mf_controller']))\n",
    "sns.barplot(x, y, palette=sns.color_palette(\"PRGn\"))\n",
    "plt.ylabel(\"Controller Score\")\n"
   ]
  },
  {
   "cell_type": "markdown",
   "metadata": {},
   "source": [
    "As per above analysis and visualization C.Eriksen, Allan and Jolo David Silva are best Mid-filders"
   ]
  },
  {
   "cell_type": "markdown",
   "metadata": {},
   "source": [
    "Lastly we are going to find 3 best Attackers with following criteria\n",
    "\n",
    "Attacking Left Wing: who attacking from the left wing.\n",
    "Attacking Right Wing: who attacking from the right wing.\n",
    "Striker: who attacking from the center."
   ]
  },
  {
   "cell_type": "code",
   "execution_count": 25,
   "metadata": {},
   "outputs": [
    {
     "data": {
      "text/plain": [
       "Text(0, 0.5, 'Left Wing')"
      ]
     },
     "execution_count": 25,
     "metadata": {},
     "output_type": "execute_result"
    },
    {
     "data": {
      "image/png": "[encoded data removed]",
      "text/plain": [
       "<Figure size 1080x432 with 1 Axes>"
      ]
     },
     "metadata": {
      "needs_background": "light"
     },
     "output_type": "display_data"
    }
   ],
   "source": [
    "#Attacker Left Wing\n",
    "data['att_left_wing'] = (c*data.WeakFoot + c*data.BallControl + c*data.Dribbling + c*data.SprintSpeed + d*data.Penalties +\n",
    "                        d*data.Acceleration + b*data.Vision + c*data.Crossing + b*data.ShortPassing + b*data.LongPassing + \n",
    "                         d*data.LS + b*data.Aggression + b*data.Agility + a*data.Curve + c*data.LongShots + d*data.Finishing + \n",
    "                         d*data.LM + d*data.LW)/(a + 5*b + 6*c + 6*d)\n",
    "\n",
    "\n",
    "plt.figure(figsize=(15,6)) \n",
    "show = data[(data['Position'] == 'LW') | (data['Position'] == 'LM') | (data['Position'] == 'LS')].sort_values('att_left_wing', ascending=False)[:5]\n",
    "x = np.array(list(show['Name']))\n",
    "y = np.array(list(show['att_left_wing']))\n",
    "sns.barplot(x, y, palette=sns.color_palette(\"muted\"))\n",
    "plt.ylabel(\"Left Wing\")\n"
   ]
  },
  {
   "cell_type": "code",
   "execution_count": 26,
   "metadata": {},
   "outputs": [
    {
     "data": {
      "text/plain": [
       "Text(0, 0.5, 'Right Wing')"
      ]
     },
     "execution_count": 26,
     "metadata": {},
     "output_type": "execute_result"
    },
    {
     "data": {
      "image/png": "[encoded data removed]",
      "text/plain": [
       "<Figure size 1080x432 with 1 Axes>"
      ]
     },
     "metadata": {
      "needs_background": "light"
     },
     "output_type": "display_data"
    }
   ],
   "source": [
    "\n",
    "#Attacker Right Wing\n",
    "data['att_right_wing'] = (c*data.WeakFoot + c*data.BallControl + c*data.Dribbling + c*data.SprintSpeed + d*data.RW + \n",
    "                        d*data.Acceleration + b*data.Vision + c*data.Crossing + b*data.ShortPassing + b*data.LongPassing + \n",
    "                        d*data.Penalties + b*data.Aggression + b*data.Agility + a*data.Curve + c*data.LongShots + \n",
    "                        d*data.Finishing + d*data.RM + d*data.RS)/(a + 5*b + 6*c + 6*d)\n",
    "\n",
    "\n",
    "\n",
    "plt.figure(figsize=(15,6))\n",
    "show = data[(data['Position'] == 'RW') | (data['Position'] == 'RM') | (data['Position'] == 'RS')].sort_values('att_right_wing', ascending=False)[:5]\n",
    "x = np.array(list(show['Name']))\n",
    "y = np.array(list(show['att_right_wing']))\n",
    "sns.barplot(x, y, palette=sns.color_palette(\"deep\"))\n",
    "plt.ylabel(\"Right Wing\")\n"
   ]
  },
  {
   "cell_type": "code",
   "execution_count": 27,
   "metadata": {},
   "outputs": [
    {
     "data": {
      "text/plain": [
       "Text(0, 0.5, 'Striker')"
      ]
     },
     "execution_count": 27,
     "metadata": {},
     "output_type": "execute_result"
    },
    {
     "data": {
      "image/png": "[encoded data removed]",
      "text/plain": [
       "<Figure size 1080x432 with 1 Axes>"
      ]
     },
     "metadata": {
      "needs_background": "light"
     },
     "output_type": "display_data"
    }
   ],
   "source": [
    "#Attacker Striker\n",
    "data['att_striker'] = (b*data.WeakFoot + b*data.BallControl + a*data.Vision + b*data.Aggression + d*data.ST + \n",
    "    b*data.Agility + a*data.Curve + a*data.LongShots + d*data.Balance + d*data.Finishing + d*data.HeadingAccuracy +\n",
    "    d*data.Penalties + c*data.Jumping + c*data.Dribbling + d*data.LS + d*data.RS)/(3*a + 4*b + 2*c + 4*d)\n",
    "\n",
    "\n",
    "plt.figure(figsize=(15,6))\n",
    "show = data[(data['Position'] == 'ST') | (data['Position'] == 'LS') | (data['Position'] == 'RS') | (data['Position'] == 'CF')].sort_values('att_striker', ascending=False)[:5]\n",
    "x = np.array(list(show['Name']))\n",
    "y = np.array(list(show['att_striker']))\n",
    "sns.barplot(x, y, palette=sns.color_palette(\"Paired\"))\n",
    "plt.ylabel(\"Striker\")"
   ]
  },
  {
   "cell_type": "markdown",
   "metadata": {},
   "source": [
    "As per above analysis and visualization Neymar Jr, L Suarez and  Cristiano Ronaldo are best Attackers"
   ]
  },
  {
   "cell_type": "raw",
   "metadata": {},
   "source": [
    "So after all here is the dream 11 team lineup (4-3-3) and goalkeeper\n",
    "\n",
    "4 defenders:-J.Vertonghen, Sergio Ramos, Jordi Alba and Jolo Cancelo\n",
    "3 mid-filders:-C.Eriksen, Allan and Jolo David Silva\n",
    "3 Attackers:-Neymar Jr, L Suarez and  Cristiano Ronaldo"
   ]
  }
 ],
 "metadata": {
  "kernelspec": {
   "display_name": "Python 3",
   "language": "python",
   "name": "python3"
  },
  "language_info": {
   "codemirror_mode": {
    "name": "ipython",
    "version": 3
   },
   "file_extension": ".py",
   "mimetype": "text/x-python",
   "name": "python",
   "nbconvert_exporter": "python",
   "pygments_lexer": "ipython3",
   "version": "3.7.1"
  }
 },
 "nbformat": 4,
 "nbformat_minor": 2
}
